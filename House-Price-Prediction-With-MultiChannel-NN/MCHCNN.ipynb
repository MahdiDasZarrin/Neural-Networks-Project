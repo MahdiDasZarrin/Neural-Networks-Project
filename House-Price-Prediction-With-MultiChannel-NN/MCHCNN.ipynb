{
 "cells": [
  {
   "cell_type": "code",
   "execution_count": 1,
   "metadata": {},
   "outputs": [],
   "source": [
    "import cv2\n",
    "import numpy as np\n",
    "import pandas as pd\n",
    "from sklearn.preprocessing import StandardScaler, LabelBinarizer\n",
    "from sklearn.model_selection import train_test_split\n",
    "import os\n",
    "import glob\n",
    "import matplotlib.pyplot as plt"
   ]
  },
  {
   "cell_type": "code",
   "execution_count": 2,
   "metadata": {},
   "outputs": [],
   "source": [
    "data = pd.read_csv('HousesDataset/HousesInfo.txt', header=None, sep=' ', names=['bedrooms', 'bathrooms', 'area', 'zipcode', 'price'])"
   ]
  },
  {
   "cell_type": "code",
   "execution_count": 3,
   "metadata": {},
   "outputs": [
    {
     "data": {
      "text/html": [
       "<div>\n",
       "<style scoped>\n",
       "    .dataframe tbody tr th:only-of-type {\n",
       "        vertical-align: middle;\n",
       "    }\n",
       "\n",
       "    .dataframe tbody tr th {\n",
       "        vertical-align: top;\n",
       "    }\n",
       "\n",
       "    .dataframe thead th {\n",
       "        text-align: right;\n",
       "    }\n",
       "</style>\n",
       "<table border=\"1\" class=\"dataframe\">\n",
       "  <thead>\n",
       "    <tr style=\"text-align: right;\">\n",
       "      <th></th>\n",
       "      <th>bedrooms</th>\n",
       "      <th>bathrooms</th>\n",
       "      <th>area</th>\n",
       "      <th>zipcode</th>\n",
       "      <th>price</th>\n",
       "    </tr>\n",
       "  </thead>\n",
       "  <tbody>\n",
       "    <tr>\n",
       "      <th>0</th>\n",
       "      <td>4</td>\n",
       "      <td>4.0</td>\n",
       "      <td>4053</td>\n",
       "      <td>85255</td>\n",
       "      <td>869500</td>\n",
       "    </tr>\n",
       "    <tr>\n",
       "      <th>1</th>\n",
       "      <td>4</td>\n",
       "      <td>3.0</td>\n",
       "      <td>3343</td>\n",
       "      <td>36372</td>\n",
       "      <td>865200</td>\n",
       "    </tr>\n",
       "    <tr>\n",
       "      <th>2</th>\n",
       "      <td>3</td>\n",
       "      <td>4.0</td>\n",
       "      <td>3923</td>\n",
       "      <td>85266</td>\n",
       "      <td>889000</td>\n",
       "    </tr>\n",
       "    <tr>\n",
       "      <th>3</th>\n",
       "      <td>5</td>\n",
       "      <td>5.0</td>\n",
       "      <td>4022</td>\n",
       "      <td>85262</td>\n",
       "      <td>910000</td>\n",
       "    </tr>\n",
       "    <tr>\n",
       "      <th>4</th>\n",
       "      <td>3</td>\n",
       "      <td>4.0</td>\n",
       "      <td>4116</td>\n",
       "      <td>85266</td>\n",
       "      <td>971226</td>\n",
       "    </tr>\n",
       "    <tr>\n",
       "      <th>...</th>\n",
       "      <td>...</td>\n",
       "      <td>...</td>\n",
       "      <td>...</td>\n",
       "      <td>...</td>\n",
       "      <td>...</td>\n",
       "    </tr>\n",
       "    <tr>\n",
       "      <th>530</th>\n",
       "      <td>5</td>\n",
       "      <td>2.0</td>\n",
       "      <td>2066</td>\n",
       "      <td>94531</td>\n",
       "      <td>399900</td>\n",
       "    </tr>\n",
       "    <tr>\n",
       "      <th>531</th>\n",
       "      <td>4</td>\n",
       "      <td>3.5</td>\n",
       "      <td>9536</td>\n",
       "      <td>94531</td>\n",
       "      <td>460000</td>\n",
       "    </tr>\n",
       "    <tr>\n",
       "      <th>532</th>\n",
       "      <td>3</td>\n",
       "      <td>2.0</td>\n",
       "      <td>2014</td>\n",
       "      <td>94531</td>\n",
       "      <td>407000</td>\n",
       "    </tr>\n",
       "    <tr>\n",
       "      <th>533</th>\n",
       "      <td>4</td>\n",
       "      <td>3.0</td>\n",
       "      <td>2312</td>\n",
       "      <td>94531</td>\n",
       "      <td>419000</td>\n",
       "    </tr>\n",
       "    <tr>\n",
       "      <th>534</th>\n",
       "      <td>5</td>\n",
       "      <td>3.0</td>\n",
       "      <td>3796</td>\n",
       "      <td>94531</td>\n",
       "      <td>615000</td>\n",
       "    </tr>\n",
       "  </tbody>\n",
       "</table>\n",
       "<p>535 rows × 5 columns</p>\n",
       "</div>"
      ],
      "text/plain": [
       "     bedrooms  bathrooms  area  zipcode   price\n",
       "0           4        4.0  4053    85255  869500\n",
       "1           4        3.0  3343    36372  865200\n",
       "2           3        4.0  3923    85266  889000\n",
       "3           5        5.0  4022    85262  910000\n",
       "4           3        4.0  4116    85266  971226\n",
       "..        ...        ...   ...      ...     ...\n",
       "530         5        2.0  2066    94531  399900\n",
       "531         4        3.5  9536    94531  460000\n",
       "532         3        2.0  2014    94531  407000\n",
       "533         4        3.0  2312    94531  419000\n",
       "534         5        3.0  3796    94531  615000\n",
       "\n",
       "[535 rows x 5 columns]"
      ]
     },
     "execution_count": 3,
     "metadata": {},
     "output_type": "execute_result"
    }
   ],
   "source": [
    "data"
   ]
  },
  {
   "cell_type": "code",
   "execution_count": 4,
   "metadata": {},
   "outputs": [
    {
     "data": {
      "text/plain": [
       "array([  1,   2,   3,   4,   5,   6,   7,   8,   9,  10,  11,  12,  13,\n",
       "        14,  15,  16,  17,  18,  19,  20,  21,  22,  23,  24,  25,  26,\n",
       "        27,  28,  29,  30,  31,  32,  33,  34,  35,  36,  37,  38,  39,\n",
       "        40,  41,  42,  43,  44,  45,  46,  47,  48,  49,  50,  51,  52,\n",
       "        53,  54,  55,  56,  57,  58,  59,  60,  61,  62,  63,  64,  65,\n",
       "        66,  67,  68,  69,  70,  71,  72,  73,  74,  75,  76,  77,  78,\n",
       "        79,  80,  81,  82,  83,  84,  85,  86,  87,  88,  89,  90,  91,\n",
       "        92,  93,  94,  95,  96,  97,  98,  99, 100, 101, 102, 103, 104,\n",
       "       105, 106, 107, 108, 109, 110, 111, 112, 113, 114, 115, 116, 117,\n",
       "       118, 119, 120, 121, 122, 123, 124, 125, 126, 127, 128, 129, 130,\n",
       "       131, 132, 133, 134, 135, 136, 137, 138, 139, 140, 141, 142, 143,\n",
       "       144, 145, 146, 147, 148, 149, 150, 151, 152, 153, 154, 155, 156,\n",
       "       157, 158, 159, 160, 161, 162, 163, 164, 165, 166, 167, 168, 169,\n",
       "       170, 171, 172, 173, 174, 175, 176, 177, 178, 179, 180, 181, 182,\n",
       "       183, 184, 185, 186, 187, 188, 189, 190, 191, 192, 193, 194, 195,\n",
       "       196, 197, 198, 199, 200, 201, 202, 203, 204, 205, 206, 207, 208,\n",
       "       209, 210, 211, 212, 213, 214, 215, 216, 217, 218, 219, 220, 221,\n",
       "       222, 223, 224, 225, 226, 227, 228, 229, 230, 231, 232, 233, 234,\n",
       "       235, 236, 237, 238, 239, 240, 241, 242, 243, 244, 245, 246, 247,\n",
       "       248, 249, 250, 251, 252, 253, 254, 255, 256, 257, 258, 259, 260,\n",
       "       261, 262, 263, 264, 265, 266, 267, 268, 269, 270, 271, 272, 273,\n",
       "       274, 275, 276, 277, 278, 279, 280, 281, 282, 283, 284, 285, 286,\n",
       "       287, 288, 289, 290, 291, 292, 293, 294, 295, 296, 297, 298, 299,\n",
       "       300, 301, 302, 303, 304, 305, 306, 307, 308, 309, 310, 311, 312,\n",
       "       313, 314, 315, 316, 317, 318, 319, 320, 321, 322, 323, 324, 325,\n",
       "       326, 327, 328, 329, 330, 331, 332, 333, 334, 335, 336, 337, 338,\n",
       "       339, 340, 341, 342, 343, 344, 345, 346, 347, 348, 349, 350, 351,\n",
       "       352, 353, 354, 355, 356, 357, 358, 359, 360, 361, 362, 363, 364,\n",
       "       365, 366, 367, 368, 369, 370, 371, 372, 373, 374, 375, 376, 377,\n",
       "       378, 379, 380, 381, 382, 383, 384, 385, 386, 387, 388, 389, 390,\n",
       "       391, 392, 393, 394, 395, 396, 397, 398, 399, 400, 401, 402, 403,\n",
       "       404, 405, 406, 407, 408, 409, 410, 411, 412, 413, 414, 415, 416,\n",
       "       417, 418, 419, 420, 421, 422, 423, 424, 425, 426, 427, 428, 429,\n",
       "       430, 431, 432, 433, 434, 435, 436, 437, 438, 439, 440, 441, 442,\n",
       "       443, 444, 445, 446, 447, 448, 449, 450, 451, 452, 453, 454, 455,\n",
       "       456, 457, 458, 459, 460, 461, 462, 463, 464, 465, 466, 467, 468,\n",
       "       469, 470, 471, 472, 473, 474, 475, 476, 477, 478, 479, 480, 481,\n",
       "       482, 483, 484, 485, 486, 487, 488, 489, 490, 491, 492, 493, 494,\n",
       "       495, 496, 497, 498, 499, 500, 501, 502, 503, 504, 505, 506, 507,\n",
       "       508, 509, 510, 511, 512, 513, 514, 515, 516, 517, 518, 519, 520,\n",
       "       521, 522, 523, 524, 525, 526, 527, 528, 529, 530, 531, 532, 533,\n",
       "       534, 535], dtype=int64)"
      ]
     },
     "execution_count": 4,
     "metadata": {},
     "output_type": "execute_result"
    }
   ],
   "source": [
    "data.index.values + 1"
   ]
  },
  {
   "cell_type": "code",
   "execution_count": 6,
   "metadata": {},
   "outputs": [
    {
     "data": {
      "text/plain": [
       "['HousesDataset\\\\1_bathroom.jpg',\n",
       " 'HousesDataset\\\\1_bedroom.jpg',\n",
       " 'HousesDataset\\\\1_frontal.jpg',\n",
       " 'HousesDataset\\\\1_kitchen.jpg']"
      ]
     },
     "execution_count": 6,
     "metadata": {},
     "output_type": "execute_result"
    }
   ],
   "source": [
    "sorted(list(glob.glob(os.path.sep.join(['HousesDataset', \"{}_*\".format(1)]))))"
   ]
  },
  {
   "cell_type": "code",
   "execution_count": 7,
   "metadata": {},
   "outputs": [
    {
     "data": {
      "text/plain": [
       "(4, 32, 32, 3)"
      ]
     },
     "execution_count": 7,
     "metadata": {},
     "output_type": "execute_result"
    }
   ],
   "source": [
    "basepath = os.path.sep.join(['HousesDataset', \"{}_*\".format(1)])\n",
    "imgPaths = sorted(list(glob.glob(basepath)))\n",
    "inputImages = []\n",
    "for imgPath in imgPaths:\n",
    "    image = cv2.resize(cv2.imread(imgPath), (32, 32))\n",
    "    inputImages.append(image)\n",
    "np.shape(inputImages)"
   ]
  },
  {
   "cell_type": "code",
   "execution_count": 8,
   "metadata": {},
   "outputs": [],
   "source": [
    "images = []\n",
    "for i in data.index.values:\n",
    "    basepath = os.path.sep.join(['HousesDataset', \"{}_*\".format(i + 1)])\n",
    "    imgPaths = sorted(list(glob.glob(basepath)))\n",
    "    inputImages = []\n",
    "    for imgPath in imgPaths:\n",
    "        image = cv2.resize(cv2.imread(imgPath), (32, 32))\n",
    "        inputImages.append(image)\n",
    "    outputImage = np.zeros((64, 64, 3), dtype='uint8')\n",
    "    outputImage[0:32, 0:32] = inputImages[0]\n",
    "    outputImage[0:32, 32:64] = inputImages[1]\n",
    "    outputImage[32:64, 32:64] = inputImages[2]\n",
    "    outputImage[32:64, 0:32] = inputImages[3]\n",
    "    images.append(outputImage)"
   ]
  },
  {
   "cell_type": "code",
   "execution_count": 9,
   "metadata": {},
   "outputs": [
    {
     "data": {
      "text/plain": [
       "(535, 64, 64, 3)"
      ]
     },
     "execution_count": 9,
     "metadata": {},
     "output_type": "execute_result"
    }
   ],
   "source": [
    "images = np.array(images)\n",
    "images.shape"
   ]
  },
  {
   "cell_type": "code",
   "execution_count": 10,
   "metadata": {},
   "outputs": [
    {
     "data": {
      "text/plain": [
       "<matplotlib.image.AxesImage at 0x24516a714e0>"
      ]
     },
     "execution_count": 10,
     "metadata": {},
     "output_type": "execute_result"
    },
    {
     "data": {
      "image/png": "[encoded data removed]",
      "text/plain": [
       "<Figure size 432x288 with 1 Axes>"
      ]
     },
     "metadata": {
      "needs_background": "light"
     },
     "output_type": "display_data"
    }
   ],
   "source": [
    "plt.imshow(images[100][..., ::-1])"
   ]
  },
  {
   "cell_type": "code",
   "execution_count": 11,
   "metadata": {},
   "outputs": [],
   "source": [
    "X_train, X_test, IX_train, IX_test = train_test_split(data, images, random_state=523)"
   ]
  },
  {
   "cell_type": "code",
   "execution_count": 12,
   "metadata": {},
   "outputs": [],
   "source": [
    "maxPrice = X_train['price'].max()\n",
    "y_train = X_train['price'] / maxPrice\n",
    "y_test = X_test['price'] / maxPrice"
   ]
  },
  {
   "cell_type": "code",
   "execution_count": 13,
   "metadata": {},
   "outputs": [],
   "source": [
    "from tensorflow.keras.models import Model, Sequential\n",
    "from tensorflow.keras.layers import concatenate, Input, Conv2D, MaxPooling2D, Activation, Dense, Flatten, Dropout, BatchNormalization"
   ]
  },
  {
   "cell_type": "code",
   "execution_count": 15,
   "metadata": {},
   "outputs": [],
   "source": [
    "input1 = Input(shape=(64, 64, 3))\n",
    "conv1 = Conv2D(16, (3, 3), padding='same', activation='relu')(input1)\n",
    "batchnorm1 = BatchNormalization(axis=-1)(conv1)\n",
    "maxpool1 = MaxPooling2D(pool_size=(2, 2))(batchnorm1)\n",
    "conv2 = Conv2D(32, (3, 3), padding='same', activation='relu')(maxpool1)\n",
    "batchnorm2 = BatchNormalization(axis=-1)(conv2)\n",
    "maxpool2 = MaxPooling2D(pool_size=(2, 2))(batchnorm2)\n",
    "conv3 = Conv2D(64, (3, 3), padding='same', activation='relu')(maxpool2)\n",
    "batchnorm3 = BatchNormalization(axis=-1)(conv3)\n",
    "maxpool3 = MaxPooling2D(pool_size=(2, 2))(batchnorm3)\n",
    "flatten1 = Flatten()(maxpool3)\n",
    "dense1 = Dense(32, activation='relu')(flatten1)\n",
    "batchnorm4 = BatchNormalization(axis=-1)(dense1)\n",
    "dropout1 = Dropout(0.5)(batchnorm4)\n",
    "dense2 = Dense(16, activation='relu')(dropout1)"
   ]
  },
  {
   "cell_type": "code",
   "execution_count": 16,
   "metadata": {},
   "outputs": [],
   "source": [
    "m1 = Model(input1, dense2)"
   ]
  },
  {
   "cell_type": "code",
   "execution_count": 17,
   "metadata": {},
   "outputs": [
    {
     "name": "stdout",
     "output_type": "stream",
     "text": [
      "Model: \"model\"\n",
      "_________________________________________________________________\n",
      " Layer (type)                Output Shape              Param #   \n",
      "=================================================================\n",
      " input_2 (InputLayer)        [(None, 64, 64, 3)]       0         \n",
      "                                                                 \n",
      " conv2d_3 (Conv2D)           (None, 64, 64, 16)        448       \n",
      "                                                                 \n",
      " batch_normalization_4 (Batc  (None, 64, 64, 16)       64        \n",
      " hNormalization)                                                 \n",
      "                                                                 \n",
      " max_pooling2d_3 (MaxPooling  (None, 32, 32, 16)       0         \n",
      " 2D)                                                             \n",
      "                                                                 \n",
      " conv2d_4 (Conv2D)           (None, 32, 32, 32)        4640      \n",
      "                                                                 \n",
      " batch_normalization_5 (Batc  (None, 32, 32, 32)       128       \n",
      " hNormalization)                                                 \n",
      "                                                                 \n",
      " max_pooling2d_4 (MaxPooling  (None, 16, 16, 32)       0         \n",
      " 2D)                                                             \n",
      "                                                                 \n",
      " conv2d_5 (Conv2D)           (None, 16, 16, 64)        18496     \n",
      "                                                                 \n",
      " batch_normalization_6 (Batc  (None, 16, 16, 64)       256       \n",
      " hNormalization)                                                 \n",
      "                                                                 \n",
      " max_pooling2d_5 (MaxPooling  (None, 8, 8, 64)         0         \n",
      " 2D)                                                             \n",
      "                                                                 \n",
      " flatten_1 (Flatten)         (None, 4096)              0         \n",
      "                                                                 \n",
      " dense_2 (Dense)             (None, 32)                131104    \n",
      "                                                                 \n",
      " batch_normalization_7 (Batc  (None, 32)               128       \n",
      " hNormalization)                                                 \n",
      "                                                                 \n",
      " dropout_1 (Dropout)         (None, 32)                0         \n",
      "                                                                 \n",
      " dense_3 (Dense)             (None, 16)                528       \n",
      "                                                                 \n",
      "=================================================================\n",
      "Total params: 155,792\n",
      "Trainable params: 155,504\n",
      "Non-trainable params: 288\n",
      "_________________________________________________________________\n"
     ]
    }
   ],
   "source": [
    "m1.summary()"
   ]
  },
  {
   "cell_type": "code",
   "execution_count": 18,
   "metadata": {},
   "outputs": [],
   "source": [
    "ss = StandardScaler()\n",
    "XT = ss.fit_transform(X_train[['bedrooms', 'bathrooms', 'area']])\n",
    "Xt = ss.transform(X_test[['bedrooms', 'bathrooms', 'area']])"
   ]
  },
  {
   "cell_type": "code",
   "execution_count": 19,
   "metadata": {},
   "outputs": [],
   "source": [
    "lb = LabelBinarizer()\n",
    "lb.fit(data['zipcode'])\n",
    "XTz = lb.transform(X_train['zipcode'])\n",
    "Xtz = lb.transform(X_test['zipcode'])"
   ]
  },
  {
   "cell_type": "code",
   "execution_count": 20,
   "metadata": {},
   "outputs": [
    {
     "data": {
      "text/plain": [
       "array([0, 0, 0, 0, 0, 0, 0, 0, 0, 0, 0, 0, 0, 0, 0, 0, 0, 0, 0, 0, 0, 0,\n",
       "       0, 0, 0, 0, 0, 0, 0, 0, 0, 0, 0, 1, 0, 0, 0, 0, 0, 0, 0, 0, 0, 0,\n",
       "       0, 0, 0, 0, 0])"
      ]
     },
     "execution_count": 20,
     "metadata": {},
     "output_type": "execute_result"
    }
   ],
   "source": [
    "XTz[100]"
   ]
  },
  {
   "cell_type": "code",
   "execution_count": 21,
   "metadata": {},
   "outputs": [],
   "source": [
    "XT = np.hstack([XT, XTz])\n",
    "Xt = np.hstack([Xt, Xtz])"
   ]
  },
  {
   "cell_type": "code",
   "execution_count": 22,
   "metadata": {},
   "outputs": [
    {
     "data": {
      "text/plain": [
       "array([0.51790082, 0.32814078, 0.36211477, 0.        , 0.        ,\n",
       "       0.        , 0.        , 0.        , 0.        , 0.        ,\n",
       "       0.        , 0.        , 0.        , 0.        , 0.        ,\n",
       "       0.        , 0.        , 0.        , 0.        , 0.        ,\n",
       "       0.        , 0.        , 0.        , 0.        , 0.        ,\n",
       "       1.        , 0.        , 0.        , 0.        , 0.        ,\n",
       "       0.        , 0.        , 0.        , 0.        , 0.        ,\n",
       "       0.        , 0.        , 0.        , 0.        , 0.        ,\n",
       "       0.        , 0.        , 0.        , 0.        , 0.        ,\n",
       "       0.        , 0.        , 0.        , 0.        , 0.        ,\n",
       "       0.        , 0.        ])"
      ]
     },
     "execution_count": 22,
     "metadata": {},
     "output_type": "execute_result"
    }
   ],
   "source": [
    "XT[0]"
   ]
  },
  {
   "cell_type": "code",
   "execution_count": 23,
   "metadata": {},
   "outputs": [
    {
     "data": {
      "text/plain": [
       "(401, 52)"
      ]
     },
     "execution_count": 23,
     "metadata": {},
     "output_type": "execute_result"
    }
   ],
   "source": [
    "XT.shape"
   ]
  },
  {
   "cell_type": "code",
   "execution_count": 24,
   "metadata": {},
   "outputs": [],
   "source": [
    "m2 = Sequential()\n",
    "m2.add(Dense(16, activation='relu', input_dim=52))\n",
    "m2.add(Dropout(0.5))\n",
    "m2.add(Dense(8, activation='relu'))\n",
    "m2.add(Dense(4, activation='relu'))"
   ]
  },
  {
   "cell_type": "code",
   "execution_count": 25,
   "metadata": {},
   "outputs": [
    {
     "name": "stdout",
     "output_type": "stream",
     "text": [
      "Model: \"sequential\"\n",
      "_________________________________________________________________\n",
      " Layer (type)                Output Shape              Param #   \n",
      "=================================================================\n",
      " dense_4 (Dense)             (None, 16)                848       \n",
      "                                                                 \n",
      " dropout_2 (Dropout)         (None, 16)                0         \n",
      "                                                                 \n",
      " dense_5 (Dense)             (None, 8)                 136       \n",
      "                                                                 \n",
      " dense_6 (Dense)             (None, 4)                 36        \n",
      "                                                                 \n",
      "=================================================================\n",
      "Total params: 1,020\n",
      "Trainable params: 1,020\n",
      "Non-trainable params: 0\n",
      "_________________________________________________________________\n"
     ]
    }
   ],
   "source": [
    "m2.summary()"
   ]
  },
  {
   "cell_type": "code",
   "execution_count": 26,
   "metadata": {},
   "outputs": [],
   "source": [
    "combinedModel = concatenate([m2.output, m1.output])"
   ]
  },
  {
   "cell_type": "code",
   "execution_count": 27,
   "metadata": {},
   "outputs": [],
   "source": [
    "densef1 = Dense(8, activation='relu')(combinedModel)\n",
    "densef2 = Dense(1, activation='linear')(densef1)\n",
    "model = Model(inputs=[m2.input, m1.input], outputs=densef2)"
   ]
  },
  {
   "cell_type": "code",
   "execution_count": 28,
   "metadata": {},
   "outputs": [
    {
     "name": "stdout",
     "output_type": "stream",
     "text": [
      "Model: \"model_1\"\n",
      "__________________________________________________________________________________________________\n",
      " Layer (type)                   Output Shape         Param #     Connected to                     \n",
      "==================================================================================================\n",
      " input_2 (InputLayer)           [(None, 64, 64, 3)]  0           []                               \n",
      "                                                                                                  \n",
      " conv2d_3 (Conv2D)              (None, 64, 64, 16)   448         ['input_2[0][0]']                \n",
      "                                                                                                  \n",
      " batch_normalization_4 (BatchNo  (None, 64, 64, 16)  64          ['conv2d_3[0][0]']               \n",
      " rmalization)                                                                                     \n",
      "                                                                                                  \n",
      " max_pooling2d_3 (MaxPooling2D)  (None, 32, 32, 16)  0           ['batch_normalization_4[0][0]']  \n",
      "                                                                                                  \n",
      " conv2d_4 (Conv2D)              (None, 32, 32, 32)   4640        ['max_pooling2d_3[0][0]']        \n",
      "                                                                                                  \n",
      " batch_normalization_5 (BatchNo  (None, 32, 32, 32)  128         ['conv2d_4[0][0]']               \n",
      " rmalization)                                                                                     \n",
      "                                                                                                  \n",
      " max_pooling2d_4 (MaxPooling2D)  (None, 16, 16, 32)  0           ['batch_normalization_5[0][0]']  \n",
      "                                                                                                  \n",
      " conv2d_5 (Conv2D)              (None, 16, 16, 64)   18496       ['max_pooling2d_4[0][0]']        \n",
      "                                                                                                  \n",
      " batch_normalization_6 (BatchNo  (None, 16, 16, 64)  256         ['conv2d_5[0][0]']               \n",
      " rmalization)                                                                                     \n",
      "                                                                                                  \n",
      " max_pooling2d_5 (MaxPooling2D)  (None, 8, 8, 64)    0           ['batch_normalization_6[0][0]']  \n",
      "                                                                                                  \n",
      " dense_4_input (InputLayer)     [(None, 52)]         0           []                               \n",
      "                                                                                                  \n",
      " flatten_1 (Flatten)            (None, 4096)         0           ['max_pooling2d_5[0][0]']        \n",
      "                                                                                                  \n",
      " dense_4 (Dense)                (None, 16)           848         ['dense_4_input[0][0]']          \n",
      "                                                                                                  \n",
      " dense_2 (Dense)                (None, 32)           131104      ['flatten_1[0][0]']              \n",
      "                                                                                                  \n",
      " dropout_2 (Dropout)            (None, 16)           0           ['dense_4[0][0]']                \n",
      "                                                                                                  \n",
      " batch_normalization_7 (BatchNo  (None, 32)          128         ['dense_2[0][0]']                \n",
      " rmalization)                                                                                     \n",
      "                                                                                                  \n",
      " dense_5 (Dense)                (None, 8)            136         ['dropout_2[0][0]']              \n",
      "                                                                                                  \n",
      " dropout_1 (Dropout)            (None, 32)           0           ['batch_normalization_7[0][0]']  \n",
      "                                                                                                  \n",
      " dense_6 (Dense)                (None, 4)            36          ['dense_5[0][0]']                \n",
      "                                                                                                  \n",
      " dense_3 (Dense)                (None, 16)           528         ['dropout_1[0][0]']              \n",
      "                                                                                                  \n",
      " concatenate (Concatenate)      (None, 20)           0           ['dense_6[0][0]',                \n",
      "                                                                  'dense_3[0][0]']                \n",
      "                                                                                                  \n",
      " dense_7 (Dense)                (None, 8)            168         ['concatenate[0][0]']            \n",
      "                                                                                                  \n",
      " dense_8 (Dense)                (None, 1)            9           ['dense_7[0][0]']                \n",
      "                                                                                                  \n",
      "==================================================================================================\n",
      "Total params: 156,989\n",
      "Trainable params: 156,701\n",
      "Non-trainable params: 288\n",
      "__________________________________________________________________________________________________\n"
     ]
    }
   ],
   "source": [
    "model.summary()"
   ]
  },
  {
   "cell_type": "code",
   "execution_count": 29,
   "metadata": {},
   "outputs": [],
   "source": [
    "from tensorflow.keras.utils import plot_model"
   ]
  },
  {
   "cell_type": "code",
   "execution_count": 30,
   "metadata": {},
   "outputs": [
    {
     "data": {
      "image/png": "[encoded data removed]",
      "text/plain": [
       "<IPython.core.display.Image object>"
      ]
     },
     "execution_count": 30,
     "metadata": {},
     "output_type": "execute_result"
    }
   ],
   "source": [
    "plot_model(model, show_shapes=True)"
   ]
  },
  {
   "cell_type": "code",
   "execution_count": 31,
   "metadata": {},
   "outputs": [],
   "source": [
    "model.compile(loss='mean_absolute_error', optimizer='adam')"
   ]
  },
  {
   "cell_type": "code",
   "execution_count": 32,
   "metadata": {},
   "outputs": [
    {
     "name": "stdout",
     "output_type": "stream",
     "text": [
      "Epoch 1/100\n",
      "41/41 [==============================] - 4s 69ms/step - loss: 0.4486 - val_loss: 0.4161\n",
      "Epoch 2/100\n",
      "41/41 [==============================] - 3s 62ms/step - loss: 0.2691 - val_loss: 0.2633\n",
      "Epoch 3/100\n",
      "41/41 [==============================] - 2s 60ms/step - loss: 0.2259 - val_loss: 0.1410\n",
      "Epoch 4/100\n",
      "41/41 [==============================] - 3s 61ms/step - loss: 0.1831 - val_loss: 0.1075\n",
      "Epoch 5/100\n",
      "41/41 [==============================] - 3s 66ms/step - loss: 0.1610 - val_loss: 0.1028\n",
      "Epoch 6/100\n",
      "41/41 [==============================] - 3s 63ms/step - loss: 0.1321 - val_loss: 0.1040\n",
      "Epoch 7/100\n",
      "41/41 [==============================] - 3s 77ms/step - loss: 0.1245 - val_loss: 0.0911\n",
      "Epoch 8/100\n",
      "41/41 [==============================] - 3s 76ms/step - loss: 0.1149 - val_loss: 0.0924\n",
      "Epoch 9/100\n",
      "41/41 [==============================] - 3s 68ms/step - loss: 0.1059 - val_loss: 0.0895\n",
      "Epoch 10/100\n",
      "41/41 [==============================] - 3s 67ms/step - loss: 0.1089 - val_loss: 0.1720\n",
      "Epoch 11/100\n",
      "41/41 [==============================] - 3s 69ms/step - loss: 0.1015 - val_loss: 0.0885\n",
      "Epoch 12/100\n",
      "41/41 [==============================] - 3s 67ms/step - loss: 0.0978 - val_loss: 0.0746\n",
      "Epoch 13/100\n",
      "41/41 [==============================] - 3s 75ms/step - loss: 0.0925 - val_loss: 0.0699\n",
      "Epoch 14/100\n",
      "41/41 [==============================] - 3s 66ms/step - loss: 0.0875 - val_loss: 0.0735\n",
      "Epoch 15/100\n",
      "41/41 [==============================] - 3s 75ms/step - loss: 0.0859 - val_loss: 0.0688\n",
      "Epoch 16/100\n",
      "41/41 [==============================] - 3s 70ms/step - loss: 0.0839 - val_loss: 0.0717\n",
      "Epoch 17/100\n",
      "41/41 [==============================] - 3s 68ms/step - loss: 0.0787 - val_loss: 0.0840\n",
      "Epoch 18/100\n",
      "41/41 [==============================] - 3s 70ms/step - loss: 0.0756 - val_loss: 0.0682\n",
      "Epoch 19/100\n",
      "41/41 [==============================] - 3s 67ms/step - loss: 0.0746 - val_loss: 0.0652\n",
      "Epoch 20/100\n",
      "41/41 [==============================] - 3s 73ms/step - loss: 0.0714 - val_loss: 0.0655\n",
      "Epoch 21/100\n",
      "41/41 [==============================] - 3s 69ms/step - loss: 0.0736 - val_loss: 0.0645\n",
      "Epoch 22/100\n",
      "41/41 [==============================] - 3s 68ms/step - loss: 0.0742 - val_loss: 0.0609\n",
      "Epoch 23/100\n",
      "41/41 [==============================] - 3s 75ms/step - loss: 0.0655 - val_loss: 0.0725\n",
      "Epoch 24/100\n",
      "41/41 [==============================] - 3s 73ms/step - loss: 0.0667 - val_loss: 0.0617\n",
      "Epoch 25/100\n",
      "41/41 [==============================] - 3s 74ms/step - loss: 0.0618 - val_loss: 0.0580\n",
      "Epoch 26/100\n",
      "41/41 [==============================] - 3s 72ms/step - loss: 0.0624 - val_loss: 0.0573\n",
      "Epoch 27/100\n",
      "41/41 [==============================] - 3s 70ms/step - loss: 0.0611 - val_loss: 0.0600\n",
      "Epoch 28/100\n",
      "41/41 [==============================] - 2s 49ms/step - loss: 0.0585 - val_loss: 0.0617\n",
      "Epoch 29/100\n",
      "41/41 [==============================] - 2s 52ms/step - loss: 0.0612 - val_loss: 0.0607\n",
      "Epoch 30/100\n",
      "41/41 [==============================] - 2s 53ms/step - loss: 0.0567 - val_loss: 0.0556\n",
      "Epoch 31/100\n",
      "41/41 [==============================] - 2s 52ms/step - loss: 0.0583 - val_loss: 0.0552\n",
      "Epoch 32/100\n",
      "41/41 [==============================] - 2s 51ms/step - loss: 0.0532 - val_loss: 0.0581\n",
      "Epoch 33/100\n",
      "41/41 [==============================] - 2s 53ms/step - loss: 0.0566 - val_loss: 0.0575\n",
      "Epoch 34/100\n",
      "41/41 [==============================] - 2s 52ms/step - loss: 0.0532 - val_loss: 0.0564\n",
      "Epoch 35/100\n",
      "41/41 [==============================] - 2s 55ms/step - loss: 0.0536 - val_loss: 0.0551\n",
      "Epoch 36/100\n",
      "41/41 [==============================] - 2s 52ms/step - loss: 0.0515 - val_loss: 0.0565\n",
      "Epoch 37/100\n",
      "41/41 [==============================] - 2s 54ms/step - loss: 0.0508 - val_loss: 0.0552\n",
      "Epoch 38/100\n",
      "41/41 [==============================] - 2s 53ms/step - loss: 0.0516 - val_loss: 0.0540\n",
      "Epoch 39/100\n",
      "41/41 [==============================] - 2s 53ms/step - loss: 0.0536 - val_loss: 0.0544\n",
      "Epoch 40/100\n",
      "41/41 [==============================] - 2s 53ms/step - loss: 0.0482 - val_loss: 0.0551\n",
      "Epoch 41/100\n",
      "41/41 [==============================] - 2s 54ms/step - loss: 0.0480 - val_loss: 0.0538\n",
      "Epoch 42/100\n",
      "41/41 [==============================] - 2s 52ms/step - loss: 0.0505 - val_loss: 0.0519\n",
      "Epoch 43/100\n",
      "41/41 [==============================] - 2s 54ms/step - loss: 0.0473 - val_loss: 0.0530\n",
      "Epoch 44/100\n",
      "41/41 [==============================] - 2s 55ms/step - loss: 0.0495 - val_loss: 0.0522\n",
      "Epoch 45/100\n",
      "41/41 [==============================] - 2s 56ms/step - loss: 0.0467 - val_loss: 0.0512\n",
      "Epoch 46/100\n",
      "41/41 [==============================] - 2s 53ms/step - loss: 0.0454 - val_loss: 0.0538\n",
      "Epoch 47/100\n",
      "41/41 [==============================] - 2s 55ms/step - loss: 0.0455 - val_loss: 0.0508\n",
      "Epoch 48/100\n",
      "41/41 [==============================] - 2s 53ms/step - loss: 0.0463 - val_loss: 0.0504\n",
      "Epoch 49/100\n",
      "41/41 [==============================] - 2s 54ms/step - loss: 0.0432 - val_loss: 0.0520\n",
      "Epoch 50/100\n",
      "41/41 [==============================] - 2s 52ms/step - loss: 0.0450 - val_loss: 0.0513\n",
      "Epoch 51/100\n",
      "41/41 [==============================] - 2s 56ms/step - loss: 0.0451 - val_loss: 0.0540\n",
      "Epoch 52/100\n",
      "41/41 [==============================] - 2s 50ms/step - loss: 0.0459 - val_loss: 0.0511\n",
      "Epoch 53/100\n",
      "41/41 [==============================] - 2s 49ms/step - loss: 0.0421 - val_loss: 0.0494\n",
      "Epoch 54/100\n",
      "41/41 [==============================] - 2s 50ms/step - loss: 0.0453 - val_loss: 0.0496\n",
      "Epoch 55/100\n",
      "41/41 [==============================] - 2s 49ms/step - loss: 0.0427 - val_loss: 0.0552\n",
      "Epoch 56/100\n",
      "41/41 [==============================] - 2s 49ms/step - loss: 0.0435 - val_loss: 0.0531\n",
      "Epoch 57/100\n",
      "41/41 [==============================] - 2s 50ms/step - loss: 0.0429 - val_loss: 0.0501\n",
      "Epoch 58/100\n",
      "41/41 [==============================] - 2s 49ms/step - loss: 0.0414 - val_loss: 0.0542\n",
      "Epoch 59/100\n",
      "41/41 [==============================] - 2s 49ms/step - loss: 0.0407 - val_loss: 0.0530\n",
      "Epoch 60/100\n",
      "41/41 [==============================] - 2s 48ms/step - loss: 0.0405 - val_loss: 0.0510\n",
      "Epoch 61/100\n",
      "41/41 [==============================] - 2s 50ms/step - loss: 0.0412 - val_loss: 0.0503\n",
      "Epoch 62/100\n",
      "41/41 [==============================] - 2s 49ms/step - loss: 0.0402 - val_loss: 0.0519\n",
      "Epoch 63/100\n",
      "41/41 [==============================] - 2s 49ms/step - loss: 0.0405 - val_loss: 0.0511\n",
      "Epoch 64/100\n",
      "41/41 [==============================] - 2s 49ms/step - loss: 0.0414 - val_loss: 0.0509\n",
      "Epoch 65/100\n",
      "41/41 [==============================] - 2s 49ms/step - loss: 0.0411 - val_loss: 0.0516\n",
      "Epoch 66/100\n",
      "41/41 [==============================] - 2s 52ms/step - loss: 0.0394 - val_loss: 0.0506\n",
      "Epoch 67/100\n",
      "41/41 [==============================] - 2s 50ms/step - loss: 0.0421 - val_loss: 0.0482\n",
      "Epoch 68/100\n",
      "41/41 [==============================] - 2s 49ms/step - loss: 0.0400 - val_loss: 0.0496\n",
      "Epoch 69/100\n",
      "41/41 [==============================] - 2s 48ms/step - loss: 0.0401 - val_loss: 0.0494\n",
      "Epoch 70/100\n",
      "41/41 [==============================] - 2s 50ms/step - loss: 0.0395 - val_loss: 0.0489\n",
      "Epoch 71/100\n",
      "41/41 [==============================] - 2s 49ms/step - loss: 0.0391 - val_loss: 0.0510\n",
      "Epoch 72/100\n",
      "41/41 [==============================] - 2s 48ms/step - loss: 0.0398 - val_loss: 0.0534\n",
      "Epoch 73/100\n",
      "41/41 [==============================] - 2s 49ms/step - loss: 0.0414 - val_loss: 0.0528\n",
      "Epoch 74/100\n",
      "41/41 [==============================] - 2s 50ms/step - loss: 0.0373 - val_loss: 0.0505\n",
      "Epoch 75/100\n",
      "41/41 [==============================] - 2s 48ms/step - loss: 0.0383 - val_loss: 0.0517\n",
      "Epoch 76/100\n",
      "41/41 [==============================] - 2s 49ms/step - loss: 0.0394 - val_loss: 0.0512\n",
      "Epoch 77/100\n",
      "41/41 [==============================] - 2s 49ms/step - loss: 0.0367 - val_loss: 0.0508\n",
      "Epoch 78/100\n",
      "41/41 [==============================] - 2s 50ms/step - loss: 0.0395 - val_loss: 0.0498\n",
      "Epoch 79/100\n",
      "41/41 [==============================] - 2s 50ms/step - loss: 0.0386 - val_loss: 0.0516\n",
      "Epoch 80/100\n",
      "41/41 [==============================] - 2s 49ms/step - loss: 0.0385 - val_loss: 0.0528\n",
      "Epoch 81/100\n",
      "41/41 [==============================] - 2s 48ms/step - loss: 0.0384 - val_loss: 0.0516\n",
      "Epoch 82/100\n"
     ]
    },
    {
     "name": "stdout",
     "output_type": "stream",
     "text": [
      "41/41 [==============================] - 2s 48ms/step - loss: 0.0368 - val_loss: 0.0512\n",
      "Epoch 83/100\n",
      "41/41 [==============================] - 2s 48ms/step - loss: 0.0384 - val_loss: 0.0498\n",
      "Epoch 84/100\n",
      "41/41 [==============================] - 2s 49ms/step - loss: 0.0393 - val_loss: 0.0513\n",
      "Epoch 85/100\n",
      "41/41 [==============================] - 2s 49ms/step - loss: 0.0383 - val_loss: 0.0550\n",
      "Epoch 86/100\n",
      "41/41 [==============================] - 2s 48ms/step - loss: 0.0364 - val_loss: 0.0502\n",
      "Epoch 87/100\n",
      "41/41 [==============================] - 2s 49ms/step - loss: 0.0373 - val_loss: 0.0524\n",
      "Epoch 88/100\n",
      "41/41 [==============================] - 2s 48ms/step - loss: 0.0371 - val_loss: 0.0514\n",
      "Epoch 89/100\n",
      "41/41 [==============================] - 2s 49ms/step - loss: 0.0370 - val_loss: 0.0479\n",
      "Epoch 90/100\n",
      "41/41 [==============================] - 2s 48ms/step - loss: 0.0387 - val_loss: 0.0496\n",
      "Epoch 91/100\n",
      "41/41 [==============================] - 2s 48ms/step - loss: 0.0358 - val_loss: 0.0515\n",
      "Epoch 92/100\n",
      "41/41 [==============================] - 2s 48ms/step - loss: 0.0342 - val_loss: 0.0501\n",
      "Epoch 93/100\n",
      "41/41 [==============================] - 2s 49ms/step - loss: 0.0342 - val_loss: 0.0519\n",
      "Epoch 94/100\n",
      "41/41 [==============================] - 2s 50ms/step - loss: 0.0344 - val_loss: 0.0534\n",
      "Epoch 95/100\n",
      "41/41 [==============================] - 2s 49ms/step - loss: 0.0340 - val_loss: 0.0469\n",
      "Epoch 96/100\n",
      "41/41 [==============================] - 2s 47ms/step - loss: 0.0351 - val_loss: 0.0483\n",
      "Epoch 97/100\n",
      "41/41 [==============================] - 2s 48ms/step - loss: 0.0348 - val_loss: 0.0505\n",
      "Epoch 98/100\n",
      "41/41 [==============================] - 2s 49ms/step - loss: 0.0350 - val_loss: 0.0553\n",
      "Epoch 99/100\n",
      "41/41 [==============================] - 2s 48ms/step - loss: 0.0363 - val_loss: 0.0516\n",
      "Epoch 100/100\n",
      "41/41 [==============================] - 2s 49ms/step - loss: 0.0356 - val_loss: 0.0497\n"
     ]
    },
    {
     "data": {
      "text/plain": [
       "<keras.callbacks.History at 0x24522893b20>"
      ]
     },
     "execution_count": 32,
     "metadata": {},
     "output_type": "execute_result"
    }
   ],
   "source": [
    "model.fit([XT, IX_train], y_train, validation_data=([Xt, IX_test], y_test), epochs=100, batch_size=10)"
   ]
  },
  {
   "cell_type": "code",
   "execution_count": 34,
   "metadata": {},
   "outputs": [
    {
     "name": "stdout",
     "output_type": "stream",
     "text": [
      "5/5 [==============================] - 0s 37ms/step\n"
     ]
    }
   ],
   "source": [
    "predicts = model.predict([Xt, IX_test]) * maxPrice"
   ]
  },
  {
   "cell_type": "code",
   "execution_count": 35,
   "metadata": {},
   "outputs": [
    {
     "data": {
      "text/plain": [
       "array([ 825351.0594368 ,  474848.92606735,  215944.45407391,\n",
       "        541392.02833176,  403500.85496902,  365824.99742508,\n",
       "        187079.29551601,  244702.53288746,  704110.56280136,\n",
       "        475846.29058838,  328125.77486038,  489237.12968826,\n",
       "        186431.21421337,  466168.820858  ,  219370.32043934,\n",
       "        382620.09620667,  508594.69175339,  468573.51064682,\n",
       "        513630.03253937,  161151.03662014, 1203781.0087204 ,\n",
       "       1634632.34901428,  524903.05900574,  475094.73562241,\n",
       "        811892.68827438,  206940.60623646,  516413.56945038,\n",
       "        401686.37037277,  429422.43814468,  201560.54198742,\n",
       "       1020330.07144928,  450083.79220963,  510864.61544037,\n",
       "        381914.97325897,  477376.63984299,  617830.15727997,\n",
       "        385094.165802  ,  230805.38213253,  549312.35313416,\n",
       "        421656.5489769 ,  253744.60220337,  240530.05874157,\n",
       "        302067.22021103,  603819.84710693,  898541.68891907,\n",
       "        979598.34337234,  497239.05324936, 1111618.28041077,\n",
       "        397958.99391174,  390073.23980331,  561469.61450577,\n",
       "        574305.65357208,  451830.50632477,  484612.22648621,\n",
       "        866395.53308487,  549250.84114075,  196382.50768185,\n",
       "        495652.61602402,  661931.21671677,  349712.84866333,\n",
       "        320644.70648766, 1156832.45658875,  810706.19821548,\n",
       "        319866.65725708,  597384.39321518,  350171.50640488,\n",
       "        507453.50122452,  474061.01226807,  508340.65675735,\n",
       "        857505.02347946,  571803.86781693,  515182.79314041,\n",
       "        883570.55187225,  491963.68455887,  491576.67160034,\n",
       "        189768.4186697 ,  899915.39716721,  558681.42843246,\n",
       "        288006.54411316,  927722.3944664 ,  199913.39743137,\n",
       "        186819.25535202,  902118.3848381 ,  455473.24419022,\n",
       "        474755.22756577,  441812.45565414,  519207.29875565,\n",
       "       1023457.64636993,  488559.72290039,  476482.0933342 ,\n",
       "        771392.5242424 ,  767889.67847824,  556406.08072281,\n",
       "        194337.94915676,  448351.44281387,  796131.67047501,\n",
       "        590640.30647278,  551368.8325882 ,  462877.39276886,\n",
       "        586745.262146  , 1112236.85741425,  495966.19606018,\n",
       "        771422.80340195,  422133.68415833,  194447.57699966,\n",
       "        765238.40427399,  175859.64500904,  531832.3969841 ,\n",
       "        448171.97322845,  177657.2316885 ,  765120.32747269,\n",
       "        761833.90617371,  201139.55438137,  195550.75466633,\n",
       "        284001.11198425,  602019.60802078,  358148.87285233,\n",
       "        436025.50029755,  389571.42829895,  470945.71590424,\n",
       "        767064.45217133,  186816.87116623,  464680.37366867,\n",
       "       1093294.62051392, 1080450.0579834 ,  365552.36577988,\n",
       "        261401.05724335,  446529.2096138 ,  468399.97172356,\n",
       "        548552.15549469,  586916.44668579,  771524.13129807,\n",
       "        499896.88396454,  286012.64953613])"
      ]
     },
     "execution_count": 35,
     "metadata": {},
     "output_type": "execute_result"
    }
   ],
   "source": [
    "predicts.flatten()"
   ]
  },
  {
   "cell_type": "code",
   "execution_count": 36,
   "metadata": {},
   "outputs": [
    {
     "data": {
      "text/plain": [
       "array([1039000.,  529800.,  184900.,  569950.,  309900.,  529000.,\n",
       "         99000.,   69900., 1495000.,  557000.,  335000.,  547900.,\n",
       "         74900.,  144900.,  117500.,  399900.,  455000.,  214900.,\n",
       "        699000.,  104900.,  869000., 3850000., 5858000.,  499000.,\n",
       "        895000.,  219500.,  599500.,  449000.,  500000.,  103500.,\n",
       "        519200.,  664900.,  538000.,  449000.,  599999.,  649000.,\n",
       "        310000.,   69500.,  479000.,  435000.,   97500.,  400000.,\n",
       "        360000.,  567000., 1039000., 1327685.,  619000., 2150000.,\n",
       "        458000.,  445000.,  629000.,  649000.,  549950.,  539900.,\n",
       "        599999.,  695000.,  147000.,  310000.,  599000.,  385000.,\n",
       "        259000.,  700000., 1195000.,  429900.,  639000.,  245000.,\n",
       "        525000.,  710000.,  579000.,  925000.,  644900.,  895000.,\n",
       "        750000.,  549999.,  625000.,  117000.,  962500.,  521500.,\n",
       "        235000., 1500000.,   69900.,  135000.,  725000.,  529999.,\n",
       "        389900.,  365000., 1299000., 1294000.,  530000.,  534888.,\n",
       "        875000.,  889000.,  699800.,   50000.,  450000.,  625000.,\n",
       "        649900.,  409900.,  339000.,  725000., 1290000.,  565000.,\n",
       "       1080000.,  589900.,   94900.,  895000.,   96900.,  579500.,\n",
       "        520000.,  199000.,  619000.,  888000.,   89500.,   36000.,\n",
       "        415000.,  599000.,  240000.,  625000.,  397500.,  585000.,\n",
       "        490000.,   79500.,  324999.,  910000., 1999999.,  335000.,\n",
       "        125000.,  529900.,  525000.,  699900.,  979000.,  895000.,\n",
       "        539800.,  275000.])"
      ]
     },
     "execution_count": 36,
     "metadata": {},
     "output_type": "execute_result"
    }
   ],
   "source": [
    "y_test.values * maxPrice"
   ]
  },
  {
   "cell_type": "code",
   "execution_count": 37,
   "metadata": {},
   "outputs": [],
   "source": [
    "diff = abs(predicts.flatten() - (y_test * maxPrice))"
   ]
  },
  {
   "cell_type": "code",
   "execution_count": 38,
   "metadata": {},
   "outputs": [
    {
     "data": {
      "text/plain": [
       "11     213648.940563\n",
       "81      54951.073933\n",
       "75      31044.454074\n",
       "524     28557.971668\n",
       "436     93600.854969\n",
       "           ...      \n",
       "430    151347.844505\n",
       "92     392083.553314\n",
       "141    123475.868702\n",
       "244     39903.116035\n",
       "486     11012.649536\n",
       "Name: price, Length: 134, dtype: float64"
      ]
     },
     "execution_count": 38,
     "metadata": {},
     "output_type": "execute_result"
    }
   ],
   "source": [
    "diff"
   ]
  },
  {
   "cell_type": "code",
   "execution_count": 39,
   "metadata": {},
   "outputs": [
    {
     "data": {
      "text/plain": [
       "198792.64818871912"
      ]
     },
     "execution_count": 39,
     "metadata": {},
     "output_type": "execute_result"
    }
   ],
   "source": [
    "diff.mean()"
   ]
  },
  {
   "cell_type": "code",
   "execution_count": 40,
   "metadata": {},
   "outputs": [
    {
     "data": {
      "text/plain": [
       "589362.8112149533"
      ]
     },
     "execution_count": 40,
     "metadata": {},
     "output_type": "execute_result"
    }
   ],
   "source": [
    "data['price'].mean()"
   ]
  },
  {
   "cell_type": "code",
   "execution_count": 41,
   "metadata": {},
   "outputs": [
    {
     "data": {
      "text/plain": [
       "509026.06764905667"
      ]
     },
     "execution_count": 41,
     "metadata": {},
     "output_type": "execute_result"
    }
   ],
   "source": [
    "data['price'].std()"
   ]
  },
  {
   "cell_type": "code",
   "execution_count": 42,
   "metadata": {},
   "outputs": [],
   "source": [
    "from sklearn.metrics import r2_score, mean_absolute_error"
   ]
  },
  {
   "cell_type": "code",
   "execution_count": 43,
   "metadata": {},
   "outputs": [
    {
     "data": {
      "text/plain": [
       "0.28922214013780245"
      ]
     },
     "execution_count": 43,
     "metadata": {},
     "output_type": "execute_result"
    }
   ],
   "source": [
    "r2_score(y_pred=predicts.flatten(), y_true=(y_test * maxPrice))"
   ]
  },
  {
   "cell_type": "code",
   "execution_count": 44,
   "metadata": {},
   "outputs": [
    {
     "name": "stdout",
     "output_type": "stream",
     "text": [
      "5/5 [==============================] - 0s 45ms/step\n"
     ]
    },
    {
     "data": {
      "text/plain": [
       "198792.6481887191"
      ]
     },
     "execution_count": 44,
     "metadata": {},
     "output_type": "execute_result"
    }
   ],
   "source": [
    "abs(model.predict([Xt, IX_test]).flatten() - y_test).mean() * maxPrice"
   ]
  },
  {
   "cell_type": "code",
   "execution_count": null,
   "metadata": {},
   "outputs": [],
   "source": []
  }
 ],
 "metadata": {
  "kernelspec": {
   "display_name": "Python 3 (ipykernel)",
   "language": "python",
   "name": "python3"
  },
  "language_info": {
   "codemirror_mode": {
    "name": "ipython",
    "version": 3
   },
   "file_extension": ".py",
   "mimetype": "text/x-python",
   "name": "python",
   "nbconvert_exporter": "python",
   "pygments_lexer": "ipython3",
   "version": "3.10.1"
  }
 },
 "nbformat": 4,
 "nbformat_minor": 4
}
